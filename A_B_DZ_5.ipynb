{
  "nbformat": 4,
  "nbformat_minor": 0,
  "metadata": {
    "colab": {
      "provenance": [],
      "authorship_tag": "ABX9TyP1nXZO1OK982mO7VIzRHu1",
      "include_colab_link": true
    },
    "kernelspec": {
      "name": "python3",
      "display_name": "Python 3"
    },
    "language_info": {
      "name": "python"
    }
  },
  "cells": [
    {
      "cell_type": "markdown",
      "metadata": {
        "id": "view-in-github",
        "colab_type": "text"
      },
      "source": [
        "<a href=\"https://colab.research.google.com/github/anjaluchkina/DZ/blob/master/A_B_DZ_5.ipynb\" target=\"_parent\"><img src=\"https://colab.research.google.com/assets/colab-badge.svg\" alt=\"Open In Colab\"/></a>"
      ]
    },
    {
      "cell_type": "markdown",
      "source": [
        "## Задание 1.\n",
        "\n",
        "Вы провели эксперимент c упрощением формы заказа в магазине Утконос и получили результаты по метрике конверсий в покупку. Выберите метод оценки и оцените есть ли стат.значимые различия между конверсиями в двух группах при alpha = 5%. Дайте краткие рекомендации команде.\n",
        "1. Число юзеров в группах , которые заходили на сайт в период эксперимента: n1 = 15550 и n2 = 15550 .\n",
        "2. Число юзеров в группах , которые совершили хотя бы одну покупку за период эксперимента: n1 = 164 и n2 = 228\n",
        "3. Конверсии : conv1 = 1.05% conv2 = 1.47% ."
      ],
      "metadata": {
        "id": "X3TYz88gyL5p"
      }
    },
    {
      "cell_type": "code",
      "source": [
        "import numpy as np\n",
        "from scipy import stats"
      ],
      "metadata": {
        "id": "y-dgGlTk0ISA"
      },
      "execution_count": null,
      "outputs": []
    },
    {
      "cell_type": "code",
      "source": [
        "n1 = 15550\n",
        "n2 = 15550\n",
        "a1 = 164\n",
        "a2 = 228\n",
        "alpha = 0.05\n",
        "\n",
        "conv1 = a1 / n1\n",
        "conv2 = a2 / n2\n",
        "p = (a1 + a2) / (n1 + n2)\n",
        "\n",
        "zn = (conv1 - conv2) / np.sqrt(p * (1 - p) * (1 / n1 + 1 / n2))\n",
        "print(f'Наблюдаемое значение z-критерия: {round(zn, 4)}')\n",
        "\n",
        "zt = stats.norm.ppf(1 - alpha)\n",
        "print(f'Табличное значение z-критерия: {round(zt, 4)}')"
      ],
      "metadata": {
        "colab": {
          "base_uri": "https://localhost:8080/"
        },
        "id": "A63uZaOK0KCb",
        "outputId": "d8744f64-0346-4ed8-aacc-b0332c61b2a6"
      },
      "execution_count": null,
      "outputs": [
        {
          "output_type": "stream",
          "name": "stdout",
          "text": [
            "Наблюдаемое значение z-критерия: -3.2531\n",
            "Табличное значение z-критерия: 1.6449\n"
          ]
        }
      ]
    },
    {
      "cell_type": "code",
      "source": [
        "if zn < zt:\n",
        "    print(\"Различия в конверсиях значимы.\")\n",
        "else:\n",
        "    print(\"Нет различий в конверсиях.\")"
      ],
      "metadata": {
        "colab": {
          "base_uri": "https://localhost:8080/"
        },
        "id": "3HOo4MoH0VBh",
        "outputId": "bc32380f-17da-498e-a305-ef8470ee8b04"
      },
      "execution_count": null,
      "outputs": [
        {
          "output_type": "stream",
          "name": "stdout",
          "text": [
            "Различия в конверсиях значимы.\n"
          ]
        }
      ]
    },
    {
      "cell_type": "markdown",
      "source": [
        "Вывод\n",
        "Т.к. Z - наблюдаемое меньше, Z - табличного, при alpha = 5%, то рекомендуется использовать новую форму заказа."
      ],
      "metadata": {
        "id": "nRyp9DOS1zVF"
      }
    }
  ]
}